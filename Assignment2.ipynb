{
  "nbformat": 4,
  "nbformat_minor": 0,
  "metadata": {
    "colab": {
      "provenance": [],
      "name": "Assignment2.ipynb",
      "authorship_tag": "ABX9TyPLF1ULRPu2XGKOeEH5MsXc",
      "include_colab_link": true
    },
    "kernelspec": {
      "name": "python3",
      "display_name": "Python 3"
    },
    "language_info": {
      "name": "python"
    }
  },
  "cells": [
    {
      "cell_type": "markdown",
      "metadata": {
        "id": "view-in-github",
        "colab_type": "text"
      },
      "source": [
        "<a href=\"https://colab.research.google.com/github/guttulaswathi/ml/blob/main/Assignment2.ipynb\" target=\"_parent\"><img src=\"https://colab.research.google.com/assets/colab-badge.svg\" alt=\"Open In Colab\"/></a>"
      ]
    },
    {
      "cell_type": "markdown",
      "source": [
        " Assignment 2"
      ],
      "metadata": {
        "id": "ht9ioqAC923Y"
      }
    },
    {
      "cell_type": "markdown",
      "source": [
        "1. Create a Pandas DataFrame from the following dictionary:\n",
        "data = { 'Name': ['Alice', 'Bob', 'Carol'], 'Age': [24, 27, 22], 'Salary': [50000, 55000, 48000]}\n",
        "• Add a new column called Bonus which is 10% of the salary."
      ],
      "metadata": {
        "id": "ToDZ9Red926M"
      }
    },
    {
      "cell_type": "code",
      "source": [
        "import pandas as pn\n",
        "import numpy as np\n",
        "data={'Name':['Alice','Bob','Carol'],'Age':[24,27,22],'Salary':[50000,55000,48000]}\n",
        "df=pn.DataFrame(data)\n",
        "df['Bonus']=0.1*df['Salary']\n",
        "print(df)"
      ],
      "metadata": {
        "colab": {
          "base_uri": "https://localhost:8080/"
        },
        "id": "Gk4BRnHG-P3f",
        "outputId": "e49fa99a-f7fe-4986-e66d-be98d78b4524"
      },
      "execution_count": null,
      "outputs": [
        {
          "output_type": "stream",
          "name": "stdout",
          "text": [
            "    Name  Age  Salary   Bonus\n",
            "0  Alice   24   50000  5000.0\n",
            "1    Bob   27   55000  5500.0\n",
            "2  Carol   22   48000  4800.0\n"
          ]
        }
      ]
    },
    {
      "cell_type": "markdown",
      "source": [
        "2. Given the DataFrame created in the above question:\n",
        "• Display the first two rows.\n",
        "• Compute the mean salary."
      ],
      "metadata": {
        "id": "OCsw04By-qux"
      }
    },
    {
      "cell_type": "code",
      "source": [
        "print(df.head(2))\n",
        "print(df['Salary'].mean())"
      ],
      "metadata": {
        "colab": {
          "base_uri": "https://localhost:8080/"
        },
        "id": "2mlFJHkM_mDZ",
        "outputId": "91e326f2-1f7c-4fe6-800a-96a7b2286a36"
      },
      "execution_count": null,
      "outputs": [
        {
          "output_type": "stream",
          "name": "stdout",
          "text": [
            "    Name  Age  Salary   Bonus\n",
            "0  Alice   24   50000  5000.0\n",
            "1    Bob   27   55000  5500.0\n",
            "51000.0\n"
          ]
        }
      ]
    },
    {
      "cell_type": "markdown",
      "source": [
        "3. Using the same DataFrame:\n",
        "• Extract all rows where the Age is greater than 25.\n",
        "• Filter out rows where the Salary is less than 50000."
      ],
      "metadata": {
        "id": "FyYnfOc5_tyz"
      }
    },
    {
      "cell_type": "code",
      "source": [
        "print(df[df['Age']>25])\n",
        "print(df[df['Salary']<50000])"
      ],
      "metadata": {
        "colab": {
          "base_uri": "https://localhost:8080/"
        },
        "id": "nFO9B2XW_5lP",
        "outputId": "177aa976-633e-41d4-d794-d58b461d4eb7"
      },
      "execution_count": null,
      "outputs": [
        {
          "output_type": "stream",
          "name": "stdout",
          "text": [
            "  Name  Age  Salary   Bonus\n",
            "1  Bob   27   55000  5500.0\n",
            "    Name  Age  Salary   Bonus\n",
            "2  Carol   22   48000  4800.0\n"
          ]
        }
      ]
    },
    {
      "cell_type": "markdown",
      "source": [
        "4. Create the following DataFrame:\n",
        "data = { 'A': [1, 2, None, 4], 'B': [None, 2, 3, None], 'C': [1, 2, 3, 4]}\n",
        "df = pd.DataFrame(data)\n",
        "• Fill missing values in column A with the mean of the column.\n",
        "• Drop rows where all values are None."
      ],
      "metadata": {
        "id": "9duqJqzXAcoz"
      }
    },
    {
      "cell_type": "code",
      "source": [
        "data={'A':[1,2,None,4],'B':[None,2,3,np.nan],'C':[1,2,3,4]}\n",
        "df=pn.DataFrame(data)\n",
        "print(df)\n",
        "df['A']=df['A'].fillna(df['A'].mean())\n",
        "print(df)\n",
        "df=df.dropna(how='all')\n",
        "print(df)"
      ],
      "metadata": {
        "colab": {
          "base_uri": "https://localhost:8080/"
        },
        "id": "Rvu7WadLBKrl",
        "outputId": "02adaf9f-e297-4495-87eb-21b80cbd3545"
      },
      "execution_count": null,
      "outputs": [
        {
          "output_type": "stream",
          "name": "stdout",
          "text": [
            "     A    B  C\n",
            "0  1.0  NaN  1\n",
            "1  2.0  2.0  2\n",
            "2  NaN  3.0  3\n",
            "3  4.0  NaN  4\n",
            "          A    B  C\n",
            "0  1.000000  NaN  1\n",
            "1  2.000000  2.0  2\n",
            "2  2.333333  3.0  3\n",
            "3  4.000000  NaN  4\n",
            "          A    B  C\n",
            "0  1.000000  NaN  1\n",
            "1  2.000000  2.0  2\n",
            "2  2.333333  3.0  3\n",
            "3  4.000000  NaN  4\n"
          ]
        }
      ]
    },
    {
      "cell_type": "markdown",
      "source": [
        "5.Create a DataFrame for employees:\n",
        "data = { 'Department': ['HR', 'HR', 'IT', 'IT', 'Finance'], 'Employee': ['Alice', 'Bob', 'Carol', 'David', 'Eve'], 'Salary': [50000, 45000, 60000, 65000, 70000] }\n",
        "\n",
        "Group the data by Department and compute the total and mean salary for each department.\n"
      ],
      "metadata": {
        "id": "MXtWZsyuHy37"
      }
    },
    {
      "cell_type": "code",
      "source": [
        "import pandas as pd\n",
        "data = { 'Department': ['HR', 'HR', 'IT', 'IT', 'Finance'], 'Employee': ['Alice', 'Bob', 'Carol', 'David', 'Eve'], 'Salary': [50000, 45000, 60000, 65000, 70000] }\n",
        "df=pd.DataFrame(data)\n",
        "print(df)\n",
        "print(df.groupby('Department').agg({'Salary':['sum','mean']}))\n"
      ],
      "metadata": {
        "colab": {
          "base_uri": "https://localhost:8080/"
        },
        "id": "tUMCjwGnI3rC",
        "outputId": "61a2ff32-574c-4cc2-d2d8-76389f23d44a"
      },
      "execution_count": null,
      "outputs": [
        {
          "output_type": "stream",
          "name": "stdout",
          "text": [
            "  Department Employee  Salary\n",
            "0         HR    Alice   50000\n",
            "1         HR      Bob   45000\n",
            "2         IT    Carol   60000\n",
            "3         IT    David   65000\n",
            "4    Finance      Eve   70000\n",
            "            Salary         \n",
            "               sum     mean\n",
            "Department                 \n",
            "Finance      70000  70000.0\n",
            "HR           95000  47500.0\n",
            "IT          125000  62500.0\n"
          ]
        }
      ]
    },
    {
      "cell_type": "markdown",
      "source": [
        "6.Given two DataFrames:\n",
        "df1 = pd.DataFrame({'ID': [1, 2, 3], 'Name': ['Alice', 'Bob', 'Carol']})\n",
        "df2 = pd.DataFrame({'ID': [2, 3, 4], 'Age': [25, 30, 22]})\n",
        "\n",
        " Perform an inner join on the ID column.\n",
        "\n",
        "\n"
      ],
      "metadata": {
        "id": "WLK6z6DUJ4Ec"
      }
    },
    {
      "cell_type": "code",
      "source": [
        "import pandas as pd\n",
        "df1 = pd.DataFrame({'ID': [1, 2, 3], 'Name': ['Alice', 'Bob', 'Carol']})\n",
        "df2 = pd.DataFrame({'ID': [2, 3, 4], 'Age': [25, 30, 22]})\n",
        "print(df1)\n",
        "print(df2)\n",
        "print(pd.merge(df1,df2,on='ID',how='inner'))"
      ],
      "metadata": {
        "colab": {
          "base_uri": "https://localhost:8080/"
        },
        "id": "biBiKPWwKgmJ",
        "outputId": "59e77e6a-5693-4f60-f28d-85c4d862164d"
      },
      "execution_count": null,
      "outputs": [
        {
          "output_type": "stream",
          "name": "stdout",
          "text": [
            "   ID   Name\n",
            "0   1  Alice\n",
            "1   2    Bob\n",
            "2   3  Carol\n",
            "   ID  Age\n",
            "0   2   25\n",
            "1   3   30\n",
            "2   4   22\n",
            "   ID   Name  Age\n",
            "0   2    Bob   25\n",
            "1   3  Carol   30\n"
          ]
        }
      ]
    },
    {
      "cell_type": "markdown",
      "source": [
        "7.Given a small dataset, clean and display basic statistics using Pandas.\n"
      ],
      "metadata": {
        "id": "YlF9PNjjK2XQ"
      }
    },
    {
      "cell_type": "code",
      "source": [
        "import pandas as pd\n",
        "data={'Name':['Alice','Bob','Carol'],'Age':[24,27,22],'Salary':[50000,55000,48000]}\n",
        "df=pd.DataFrame(data)\n",
        "print(df)\n",
        "cleaned_df=df.dropna()\n",
        "print(cleaned_df)\n",
        "print(cleaned_df.describe(include='all'))"
      ],
      "metadata": {
        "colab": {
          "base_uri": "https://localhost:8080/"
        },
        "id": "3zyrvzGbK6MI",
        "outputId": "238a5307-cb66-4014-8fbd-ebacdaad534d"
      },
      "execution_count": null,
      "outputs": [
        {
          "output_type": "stream",
          "name": "stdout",
          "text": [
            "    Name  Age  Salary\n",
            "0  Alice   24   50000\n",
            "1    Bob   27   55000\n",
            "2  Carol   22   48000\n",
            "    Name  Age  Salary\n",
            "0  Alice   24   50000\n",
            "1    Bob   27   55000\n",
            "2  Carol   22   48000\n",
            "         Name        Age        Salary\n",
            "count       3   3.000000      3.000000\n",
            "unique      3        NaN           NaN\n",
            "top     Alice        NaN           NaN\n",
            "freq        1        NaN           NaN\n",
            "mean      NaN  24.333333  51000.000000\n",
            "std       NaN   2.516611   3605.551275\n",
            "min       NaN  22.000000  48000.000000\n",
            "25%       NaN  23.000000  49000.000000\n",
            "50%       NaN  24.000000  50000.000000\n",
            "75%       NaN  25.500000  52500.000000\n",
            "max       NaN  27.000000  55000.000000\n"
          ]
        }
      ]
    },
    {
      "cell_type": "markdown",
      "source": [
        "8.small EDA task.Load the Titanic dataset (titanic.csv) into a Pandas DataFrame.\n",
        ".Perform the following tasks:\n",
        "1.Display the number of miss\n",
        "ing values in each column.\n",
        "2.Find the average age of passengers.\n",
        "3.Create a bar plot to show the survival rate based on gender\n",
        "\n"
      ],
      "metadata": {
        "id": "MskRhnTQ7fFA"
      }
    },
    {
      "cell_type": "code",
      "source": [
        "import pandas as pd\n",
        "import numpy as np\n",
        "import matplotlib.pyplot as plt\n",
        "titanic_df = pd.read_csv(\"/content/Titanic-Dataset.csv\")\n",
        "print(titanic_df)\n",
        "print(titanic_df.isnull().sum())\n",
        "print(titanic_df['Age'].mean())\n",
        "survival_rate = titanic_df.groupby('Sex')['Survived'].mean()\n",
        "survival_rate.plot(kind='bar')"
      ],
      "metadata": {
        "colab": {
          "base_uri": "https://localhost:8080/",
          "height": 1000
        },
        "id": "OKQJFVYM7u7k",
        "outputId": "bd329c61-c2b4-4035-fae7-679a08887488"
      },
      "execution_count": null,
      "outputs": [
        {
          "output_type": "stream",
          "name": "stdout",
          "text": [
            "     PassengerId  Survived  Pclass  \\\n",
            "0              1         0       3   \n",
            "1              2         1       1   \n",
            "2              3         1       3   \n",
            "3              4         1       1   \n",
            "4              5         0       3   \n",
            "..           ...       ...     ...   \n",
            "886          887         0       2   \n",
            "887          888         1       1   \n",
            "888          889         0       3   \n",
            "889          890         1       1   \n",
            "890          891         0       3   \n",
            "\n",
            "                                                  Name     Sex   Age  SibSp  \\\n",
            "0                              Braund, Mr. Owen Harris    male  22.0      1   \n",
            "1    Cumings, Mrs. John Bradley (Florence Briggs Th...  female  38.0      1   \n",
            "2                               Heikkinen, Miss. Laina  female  26.0      0   \n",
            "3         Futrelle, Mrs. Jacques Heath (Lily May Peel)  female  35.0      1   \n",
            "4                             Allen, Mr. William Henry    male  35.0      0   \n",
            "..                                                 ...     ...   ...    ...   \n",
            "886                              Montvila, Rev. Juozas    male  27.0      0   \n",
            "887                       Graham, Miss. Margaret Edith  female  19.0      0   \n",
            "888           Johnston, Miss. Catherine Helen \"Carrie\"  female   NaN      1   \n",
            "889                              Behr, Mr. Karl Howell    male  26.0      0   \n",
            "890                                Dooley, Mr. Patrick    male  32.0      0   \n",
            "\n",
            "     Parch            Ticket     Fare Cabin Embarked  \n",
            "0        0         A/5 21171   7.2500   NaN        S  \n",
            "1        0          PC 17599  71.2833   C85        C  \n",
            "2        0  STON/O2. 3101282   7.9250   NaN        S  \n",
            "3        0            113803  53.1000  C123        S  \n",
            "4        0            373450   8.0500   NaN        S  \n",
            "..     ...               ...      ...   ...      ...  \n",
            "886      0            211536  13.0000   NaN        S  \n",
            "887      0            112053  30.0000   B42        S  \n",
            "888      2        W./C. 6607  23.4500   NaN        S  \n",
            "889      0            111369  30.0000  C148        C  \n",
            "890      0            370376   7.7500   NaN        Q  \n",
            "\n",
            "[891 rows x 12 columns]\n",
            "PassengerId      0\n",
            "Survived         0\n",
            "Pclass           0\n",
            "Name             0\n",
            "Sex              0\n",
            "Age            177\n",
            "SibSp            0\n",
            "Parch            0\n",
            "Ticket           0\n",
            "Fare             0\n",
            "Cabin          687\n",
            "Embarked         2\n",
            "dtype: int64\n",
            "29.69911764705882\n"
          ]
        },
        {
          "output_type": "execute_result",
          "data": {
            "text/plain": [
              "<Axes: xlabel='Sex'>"
            ]
          },
          "metadata": {},
          "execution_count": 20
        },
        {
          "output_type": "display_data",
          "data": {
            "text/plain": [
              "<Figure size 640x480 with 1 Axes>"
            ],
            "image/png": "[encoded data removed]"
          },
          "metadata": {}
        }
      ]
    },
    {
      "cell_type": "code",
      "source": [
        "9. Data Transformation\n",
        "Load a dataset containing daily temperatures and dates. Perform the following:\n",
        "1.Convert the date column into a DateTime object.\n",
        "2.Create a new column that categorizes temperatures into High, Medium, or Low.\n",
        "\n",
        "\n"
      ],
      "metadata": {
        "id": "tr1h9SeXFhWH"
      },
      "execution_count": null,
      "outputs": []
    },
    {
      "cell_type": "code",
      "source": [
        "\n",
        "import pandas as pd\n",
        "data = {\n",
        "    'Date': ['2024-01-01', '2024-01-02', '2024-01-03', '2024-01-04', '2024-01-05'],\n",
        "    'Temperature': [15, 22, 30, 8, 25]\n",
        "}\n",
        "\n",
        "df = pd.DataFrame(data)\n",
        "print(df)\n",
        "df['Date'] = pd.to_datetime(df['Date'])\n",
        "\n",
        "df['Category'] = pd.cut(\n",
        "    df['Temperature'],\n",
        "    bins=[-float('inf'), 15, 25, float('inf')],\n",
        "    labels=['Low', 'Medium', 'High']\n",
        ")\n",
        "\n",
        "print(\"\\nTransformed Dataset:\")\n",
        "print(df)\n"
      ],
      "metadata": {
        "colab": {
          "base_uri": "https://localhost:8080/"
        },
        "id": "oTw5NoskFhZe",
        "outputId": "221c7390-daed-4164-d954-cf7928a932a8"
      },
      "execution_count": null,
      "outputs": [
        {
          "output_type": "stream",
          "name": "stdout",
          "text": [
            "         Date  Temperature\n",
            "0  2024-01-01           15\n",
            "1  2024-01-02           22\n",
            "2  2024-01-03           30\n",
            "3  2024-01-04            8\n",
            "4  2024-01-05           25\n",
            "\n",
            "Transformed Dataset:\n",
            "        Date  Temperature Category\n",
            "0 2024-01-01           15      Low\n",
            "1 2024-01-02           22   Medium\n",
            "2 2024-01-03           30     High\n",
            "3 2024-01-04            8      Low\n",
            "4 2024-01-05           25   Medium\n"
          ]
        }
      ]
    }
  ]
}