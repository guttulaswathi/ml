{
  "nbformat": 4,
  "nbformat_minor": 0,
  "metadata": {
    "colab": {
      "provenance": [],
      "authorship_tag": "ABX9TyPwYsxkUxxBL4phoWuZ85By",
      "include_colab_link": true
    },
    "kernelspec": {
      "name": "python3",
      "display_name": "Python 3"
    },
    "language_info": {
      "name": "python"
    }
  },
  "cells": [
    {
      "cell_type": "markdown",
      "metadata": {
        "id": "view-in-github",
        "colab_type": "text"
      },
      "source": [
        "<a href=\"https://colab.research.google.com/github/guttulaswathi/ml/blob/main/mlassignment1.ipynb\" target=\"_parent\"><img src=\"https://colab.research.google.com/assets/colab-badge.svg\" alt=\"Open In Colab\"/></a>"
      ]
    },
    {
      "cell_type": "markdown",
      "source": [
        "1. Perform arithmetic operations on NumPy arrays.\n"
      ],
      "metadata": {
        "id": "ZZNocNwpC5tP"
      }
    },
    {
      "cell_type": "code",
      "source": [
        "import numpy as np\n",
        "a=np.array([1,2,3])\n",
        "b=np.arange(4,7)\n",
        "\n",
        "c=np.array([8,9,10])\n",
        "print(a,b,c)\n",
        "print('addition=',a+b)\n",
        "print('subtraction=',a-b)\n",
        "print('multiplication=',c*b)\n",
        "print('division=',a/c)\n",
        "print('modulus=',a%c)\n",
        "d=np.add(a,b)\n",
        "print(\"addition using add() method:\",d)\n",
        "print(\"substraction using substract() method\",np.subtract(b,c))\n",
        "print(\"multiplication using multiply() method\",np.multiply(c,d))\n",
        "print(\"division using divide() method\",np.divide(a,c))\n",
        "print(\"modulus using mod() method\",np.mod(b,c))"
      ],
      "metadata": {
        "colab": {
          "base_uri": "https://localhost:8080/"
        },
        "id": "YQ1PwZsjDBvw",
        "outputId": "334da75f-d144-4ceb-9ada-9214d9727fa6"
      },
      "execution_count": null,
      "outputs": [
        {
          "output_type": "stream",
          "name": "stdout",
          "text": [
            "[1 2 3] [4 5 6] [ 8  9 10]\n",
            "addition= [5 7 9]\n",
            "subtraction= [-3 -3 -3]\n",
            "multiplication= [32 45 60]\n",
            "division= [0.125      0.22222222 0.3       ]\n",
            "modulus= [1 2 3]\n",
            "addition using add() method: [5 7 9]\n",
            "substraction using substract() method [-4 -4 -4]\n",
            "multiplication using multiply() method [40 63 90]\n",
            "division using divide() method [0.125      0.22222222 0.3       ]\n",
            "modulus using mod() method [4 5 6]\n"
          ]
        }
      ]
    },
    {
      "cell_type": "markdown",
      "source": [
        "2. Write a script to compute the mean and standard deviation of a NumPy array."
      ],
      "metadata": {
        "id": "fJPHDcNvE40H"
      }
    },
    {
      "cell_type": "code",
      "source": [
        "import numpy as np\n",
        "a=np.array([10,20,30,40])\n",
        "print(a)\n",
        "print(\"mean=\",np.mean(a))\n",
        "print(\"standard deviation=\",np.std(a))\n",
        "print(\"median=\",np.median(a))"
      ],
      "metadata": {
        "colab": {
          "base_uri": "https://localhost:8080/"
        },
        "id": "DqfJPYWiE22n",
        "outputId": "f8af65fc-9cad-4eab-f997-bacceae4aeee"
      },
      "execution_count": null,
      "outputs": [
        {
          "output_type": "stream",
          "name": "stdout",
          "text": [
            "[10 20 30 40]\n",
            "mean= 25.0\n",
            "standard deviation= 11.180339887498949\n",
            "median= 25.0\n"
          ]
        }
      ]
    },
    {
      "cell_type": "markdown",
      "source": [
        "3. Create a NumPy array of integers from 10 to 50 with a step size of 5."
      ],
      "metadata": {
        "id": "PBEO5GDbIOfC"
      }
    },
    {
      "cell_type": "code",
      "source": [
        "import numpy as np\n",
        "a=np.arange(10,50,5)\n",
        "print(a)"
      ],
      "metadata": {
        "colab": {
          "base_uri": "https://localhost:8080/"
        },
        "id": "cU2oac51E3Eh",
        "outputId": "f3fcd0c1-eaef-46f7-fcef-155dd99ea069"
      },
      "execution_count": null,
      "outputs": [
        {
          "output_type": "stream",
          "name": "stdout",
          "text": [
            "[10 15 20 25 30 35 40 45]\n"
          ]
        }
      ]
    },
    {
      "cell_type": "markdown",
      "source": [
        "4. Reshape the array into a 2x4 matrix."
      ],
      "metadata": {
        "id": "DAbAxDDPIa2t"
      }
    },
    {
      "cell_type": "code",
      "source": [
        "import numpy as np\n",
        "a=np.arange(10,50,5)\n",
        "print(a)\n",
        "b=a.reshape(2,4)\n",
        "print(b)"
      ],
      "metadata": {
        "colab": {
          "base_uri": "https://localhost:8080/"
        },
        "id": "f6DwTNBZIjv8",
        "outputId": "17a09122-e416-4667-976e-abb8c9a51ea3"
      },
      "execution_count": null,
      "outputs": [
        {
          "output_type": "stream",
          "name": "stdout",
          "text": [
            "[10 15 20 25 30 35 40 45]\n",
            "[[10 15 20 25]\n",
            " [30 35 40 45]]\n"
          ]
        }
      ]
    },
    {
      "cell_type": "markdown",
      "source": [
        "5. Given the array arr = np.array([[1, 2, 3], [4, 5, 6], [7, 8, 9]]):\n",
        "\n",
        "• Extract the sub-matrix containing the last two rows and first two columns.\n",
        "\n",
        "• Replace all elements greater than 4 with 0."
      ],
      "metadata": {
        "id": "WdOP4BoWIxB9"
      }
    },
    {
      "cell_type": "code",
      "source": [
        "import numpy as np\n",
        "arr=np.array([[1,2,3],[4,5,6],[7,8,9]])\n",
        "print(arr)\n",
        "print(\"last two rows=\",arr[1:,:3])\n",
        "print(\"first two columns=\",arr[0:3,:2])\n",
        "arr[arr>4]=0\n",
        "print(arr)"
      ],
      "metadata": {
        "colab": {
          "base_uri": "https://localhost:8080/"
        },
        "id": "w_VZpHB_JWUO",
        "outputId": "7c105de5-22be-450c-cf1a-7cfe83691d63"
      },
      "execution_count": null,
      "outputs": [
        {
          "output_type": "stream",
          "name": "stdout",
          "text": [
            "[[1 2 3]\n",
            " [4 5 6]\n",
            " [7 8 9]]\n",
            "last two rows= [[4 5 6]\n",
            " [7 8 9]]\n",
            "first two columns= [[1 2]\n",
            " [4 5]\n",
            " [7 8]]\n",
            "[[1 2 3]\n",
            " [4 0 0]\n",
            " [0 0 0]]\n"
          ]
        }
      ]
    },
    {
      "cell_type": "markdown",
      "source": [
        "6. Create two 1D arrays:\n",
        "\n",
        "• a = np.array([1, 2, 3])\n",
        "\n",
        "• b = np.array([4, 5, 6])\n",
        "\n",
        "• Perform element-wise addition, multiplication, and division."
      ],
      "metadata": {
        "id": "4vEcqrxlJw5K"
      }
    },
    {
      "cell_type": "code",
      "source": [
        "import numpy as np\n",
        "a=np.array([1,2,3])\n",
        "b=np.array([4,5,6])\n",
        "print(a)\n",
        "print(b)\n",
        "print(\"addition=\",a+b)\n",
        "print(\"multiplication=\",a*b)\n",
        "print(\"division=\",a/b)\n",
        "print(\"addition using add() method:\",np.add(a,b))\n",
        "print(\"multiplication using multiply() method:\",np.multiply(a,b))\n",
        "print(\"division using divide() method:\",np.divide(a,b))"
      ],
      "metadata": {
        "colab": {
          "base_uri": "https://localhost:8080/"
        },
        "id": "VQabk-g6KE8u",
        "outputId": "9f7eba72-f844-44ce-90aa-e2a5894e3743"
      },
      "execution_count": null,
      "outputs": [
        {
          "output_type": "stream",
          "name": "stdout",
          "text": [
            "[1 2 3]\n",
            "[4 5 6]\n",
            "addition= [5 7 9]\n",
            "multiplication= [ 4 10 18]\n",
            "division= [0.25 0.4  0.5 ]\n",
            "addition using add() method: [5 7 9]\n",
            "multiplication using multiply() method: [ 4 10 18]\n",
            "division using divide() method: [0.25 0.4  0.5 ]\n"
          ]
        }
      ]
    },
    {
      "cell_type": "markdown",
      "source": [
        "7. Create a random NumPy array of size (4, 4). Compute:\n",
        "\n",
        "• Mean of each column.\n",
        "\n",
        "• Maximum value of the entire array.\n",
        "\n",
        "• Sum of all elements."
      ],
      "metadata": {
        "id": "jdcQ18k_Kprf"
      }
    },
    {
      "cell_type": "code",
      "source": [
        "import numpy as np\n",
        "a=np.random.random((4,4))\n",
        "print(a)\n",
        "print(\"mean of each column=\",np.mean(a,axis=0))\n",
        "print(\"maximum value of the entire array=\",np.max(a))\n",
        "print(\"sum of all elements=\",np.sum(a))\n"
      ],
      "metadata": {
        "colab": {
          "base_uri": "https://localhost:8080/"
        },
        "id": "6BIa2c_WK7tx",
        "outputId": "4a8a9ef6-a1e8-4ff8-e545-3475b5e5a8c3"
      },
      "execution_count": null,
      "outputs": [
        {
          "output_type": "stream",
          "name": "stdout",
          "text": [
            "[[0.94280259 0.19079767 0.50584092 0.8116313 ]\n",
            " [0.48662922 0.19769024 0.17408804 0.39604593]\n",
            " [0.63165384 0.45596224 0.55802436 0.58623339]\n",
            " [0.12981301 0.20456134 0.54183573 0.33368189]]\n",
            "mean of each column= [0.54772467 0.26225287 0.44494726 0.53189813]\n",
            "maximum value of the entire array= 0.942802586883222\n",
            "sum of all elements= 7.147291701763778\n"
          ]
        }
      ]
    },
    {
      "cell_type": "markdown",
      "source": [
        "8. Given the array arr = np.array([1, 2, 3, 4]), add 10 to each element and multiply the result by 2.\n",
        "\n"
      ],
      "metadata": {
        "id": "U9LzmRZTMvyW"
      }
    },
    {
      "cell_type": "code",
      "source": [
        "import numpy as np\n",
        "arr=np.array([1,2,3,4])\n",
        "print(arr)\n",
        "c=arr+10\n",
        "result=c*2\n",
        "print(result)"
      ],
      "metadata": {
        "colab": {
          "base_uri": "https://localhost:8080/"
        },
        "id": "NpYq8AxuMuwe",
        "outputId": "b51f3783-522e-4a41-c518-643a0a110ed2"
      },
      "execution_count": null,
      "outputs": [
        {
          "output_type": "stream",
          "name": "stdout",
          "text": [
            "[1 2 3 4]\n",
            "[22 24 26 28]\n"
          ]
        }
      ]
    },
    {
      "cell_type": "markdown",
      "source": [],
      "metadata": {
        "id": "a7jLdG1rOFHs"
      }
    },
    {
      "cell_type": "code",
      "source": [
        "9. Perform advanced slicing and indexing on a 3D array.\n",
        "Create a 3D NumPy array arr of shape (3, 4, 5) with random integers ranging from 1 to 100. Perform the following:\n",
        "• Extract the second \"layer\" (i.e., the second 2D array) in the first dimension.\n",
        "• Extract the first two rows and the last three columns from each \"layer.\"\n",
        "• Replace all elements divisible by 3 with -1."
      ],
      "metadata": {
        "id": "g20zb9JBMu76"
      },
      "execution_count": null,
      "outputs": []
    },
    {
      "cell_type": "code",
      "source": [
        "import numpy as np\n",
        "b=np.random.randint(1,100,(3,4,5))\n",
        "print(b)\n",
        "print(\"secon layer\",b[1:2,:])\n",
        "print(\"first two rows and last three columns\",b[:,:2,-3:])\n",
        "b[b%3==0]=-1\n",
        "print(b)"
      ],
      "metadata": {
        "colab": {
          "base_uri": "https://localhost:8080/"
        },
        "id": "LCgeGGBs3PGj",
        "outputId": "501965a5-0e0b-45c3-c8ea-4a0b4bbf7e90"
      },
      "execution_count": null,
      "outputs": [
        {
          "output_type": "stream",
          "name": "stdout",
          "text": [
            "[[[59 64 34 62 42]\n",
            "  [39 52 97 46  7]\n",
            "  [21 69 45 16 96]\n",
            "  [41 24 26 81 11]]\n",
            "\n",
            " [[15 47 12 41 56]\n",
            "  [25  1 65 56  3]\n",
            "  [ 2 19 88 64 71]\n",
            "  [61 82 64 25 65]]\n",
            "\n",
            " [[22 24 80 51 31]\n",
            "  [90 23 66 51 13]\n",
            "  [86 45 83 54 91]\n",
            "  [28 17 53 11 73]]]\n",
            "secon layer [[[15 47 12 41 56]\n",
            "  [25  1 65 56  3]\n",
            "  [ 2 19 88 64 71]\n",
            "  [61 82 64 25 65]]]\n",
            "first two rows and last three columns [[[34 62 42]\n",
            "  [97 46  7]]\n",
            "\n",
            " [[12 41 56]\n",
            "  [65 56  3]]\n",
            "\n",
            " [[80 51 31]\n",
            "  [66 51 13]]]\n",
            "[[[59 64 34 62 -1]\n",
            "  [-1 52 97 46  7]\n",
            "  [-1 -1 -1 16 -1]\n",
            "  [41 -1 26 -1 11]]\n",
            "\n",
            " [[-1 47 -1 41 56]\n",
            "  [25  1 65 56 -1]\n",
            "  [ 2 19 88 64 71]\n",
            "  [61 82 64 25 65]]\n",
            "\n",
            " [[22 -1 80 -1 31]\n",
            "  [-1 23 -1 -1 13]\n",
            "  [86 -1 83 -1 91]\n",
            "  [28 17 53 11 73]]]\n"
          ]
        }
      ]
    },
    {
      "cell_type": "markdown",
      "source": [
        "10. Work with broadcasting and advanced operations in NumPy.\n",
        " Create a NumPy array arr of shape (3, 3) with random integers between  1 and 20. Perform the following:\n",
        " • Subtract the mean of each row from its respective elements (row-wise normalization).\n",
        " • Create a new array by squaring all the elements in arr.\n",
        " • Find the indices of the top 3 maximum values in the entire array."
      ],
      "metadata": {
        "id": "pnl45Dpz_cbb"
      }
    },
    {
      "cell_type": "code",
      "source": [
        "import numpy as np\n",
        "arr=np.random.randint(1,20,(3,3))\n",
        "print(arr)\n",
        "print(\"row-wise normalization\",arr-arr.mean(axis=1))\n",
        "c=[np.sqrt(arr)]\n",
        "print(b)\n",
        "flat_indices=np.argsort(arr.flatten())[-3:]\n",
        "top_3_indices=np.unravel_index(flat_indices,arr.shape)\n",
        "top_3_indices=list(zip(top_3_indices[0],top_3_indices[1]))\n",
        "print(top_3_indices)"
      ],
      "metadata": {
        "colab": {
          "base_uri": "https://localhost:8080/"
        },
        "id": "qyP4_9PU3PV7",
        "outputId": "6ac53f68-ee4a-49da-8c37-b994c989f6c0"
      },
      "execution_count": null,
      "outputs": [
        {
          "output_type": "stream",
          "name": "stdout",
          "text": [
            "[[ 2  9  5]\n",
            " [ 9 14 17]\n",
            " [16 19  8]]\n",
            "row-wise normalization [[-3.33333333 -4.33333333 -9.33333333]\n",
            " [ 3.66666667  0.66666667  2.66666667]\n",
            " [10.66666667  5.66666667 -6.33333333]]\n",
            "[[[59 64 34 62 -1]\n",
            "  [-1 52 97 46  7]\n",
            "  [-1 -1 -1 16 -1]\n",
            "  [41 -1 26 -1 11]]\n",
            "\n",
            " [[-1 47 -1 41 56]\n",
            "  [25  1 65 56 -1]\n",
            "  [ 2 19 88 64 71]\n",
            "  [61 82 64 25 65]]\n",
            "\n",
            " [[22 -1 80 -1 31]\n",
            "  [-1 23 -1 -1 13]\n",
            "  [86 -1 83 -1 91]\n",
            "  [28 17 53 11 73]]]\n",
            "[(2, 0), (1, 2), (2, 1)]\n"
          ]
        }
      ]
    }
  ]
}